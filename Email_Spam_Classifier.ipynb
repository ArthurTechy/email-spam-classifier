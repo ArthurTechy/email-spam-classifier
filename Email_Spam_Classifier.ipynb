{
 "cells": [
  {
   "cell_type": "markdown",
   "id": "62618163",
   "metadata": {},
   "source": [
    "# Email Spam Classifier \n",
    "##### [dataset download link](https://www.kaggle.com/datasets/jackksoncsie/spam-email-dataset/data)"
   ]
  },
  {
   "cell_type": "code",
   "execution_count": 1,
   "id": "87c552ba",
   "metadata": {},
   "outputs": [],
   "source": [
    "# importing libraries\n",
    "\n",
    "import os\n",
    "import email\n",
    "import pandas as pd\n",
    "import numpy as np \n",
    "import matplotlib.pyplot as plt\n",
    "import seaborn as sns \n",
    "import matplotlib.pyplot as plt\n",
    "#from sklearn.impute import SimpleImputer \n",
    "import re\n",
    "import nltk\n",
    "from nltk.corpus import stopwords\n",
    "from nltk.tokenize import word_tokenize\n",
    "from nltk.stem import WordNetLemmatizer\n",
    "from imblearn.over_sampling import SMOTE\n",
    "from sklearn.utils import shuffle\n",
    "from sklearn.model_selection import train_test_split\n",
    "from sklearn.feature_extraction.text import TfidfVectorizer \n",
    "from sklearn.naive_bayes import MultinomialNB\n",
    "from sklearn.ensemble import RandomForestClassifier\n",
    "from sklearn.model_selection import cross_val_score, StratifiedKFold\n",
    "from sklearn.metrics import accuracy_score, classification_report\n",
    "from sklearn.model_selection import learning_curve\n",
    "from joblib import dump "
   ]
  },
  {
   "cell_type": "code",
   "execution_count": 2,
   "id": "1c68fd4d",
   "metadata": {},
   "outputs": [
    {
     "data": {
      "text/html": [
       "<div>\n",
       "<style scoped>\n",
       "    .dataframe tbody tr th:only-of-type {\n",
       "        vertical-align: middle;\n",
       "    }\n",
       "\n",
       "    .dataframe tbody tr th {\n",
       "        vertical-align: top;\n",
       "    }\n",
       "\n",
       "    .dataframe thead th {\n",
       "        text-align: right;\n",
       "    }\n",
       "</style>\n",
       "<table border=\"1\" class=\"dataframe\">\n",
       "  <thead>\n",
       "    <tr style=\"text-align: right;\">\n",
       "      <th></th>\n",
       "      <th>text</th>\n",
       "      <th>label</th>\n",
       "    </tr>\n",
       "  </thead>\n",
       "  <tbody>\n",
       "    <tr>\n",
       "      <th>4445</th>\n",
       "      <td>Subject: re : energy derivatives conference - ...</td>\n",
       "      <td>0</td>\n",
       "    </tr>\n",
       "    <tr>\n",
       "      <th>4118</th>\n",
       "      <td>Subject: financial maths course , part 2  vinc...</td>\n",
       "      <td>0</td>\n",
       "    </tr>\n",
       "    <tr>\n",
       "      <th>3893</th>\n",
       "      <td>Subject: re : bullet points  please respond to...</td>\n",
       "      <td>0</td>\n",
       "    </tr>\n",
       "    <tr>\n",
       "      <th>4210</th>\n",
       "      <td>Subject: re : enron default swaps  darrell ,  ...</td>\n",
       "      <td>0</td>\n",
       "    </tr>\n",
       "    <tr>\n",
       "      <th>5603</th>\n",
       "      <td>Subject: re : power question  steve ,  elena c...</td>\n",
       "      <td>0</td>\n",
       "    </tr>\n",
       "    <tr>\n",
       "      <th>561</th>\n",
       "      <td>Subject: all wraps around graand  hello concet...</td>\n",
       "      <td>1</td>\n",
       "    </tr>\n",
       "    <tr>\n",
       "      <th>3761</th>\n",
       "      <td>Subject: allocations  it is now official ! ! !...</td>\n",
       "      <td>0</td>\n",
       "    </tr>\n",
       "    <tr>\n",
       "      <th>4215</th>\n",
       "      <td>Subject: invitation to sunday dinner with vinc...</td>\n",
       "      <td>0</td>\n",
       "    </tr>\n",
       "    <tr>\n",
       "      <th>5596</th>\n",
       "      <td>Subject: re : ming sit  vince ,  thanks for th...</td>\n",
       "      <td>0</td>\n",
       "    </tr>\n",
       "    <tr>\n",
       "      <th>177</th>\n",
       "      <td>Subject: no further access to your account wil...</td>\n",
       "      <td>1</td>\n",
       "    </tr>\n",
       "  </tbody>\n",
       "</table>\n",
       "</div>"
      ],
      "text/plain": [
       "                                                   text  label\n",
       "4445  Subject: re : energy derivatives conference - ...      0\n",
       "4118  Subject: financial maths course , part 2  vinc...      0\n",
       "3893  Subject: re : bullet points  please respond to...      0\n",
       "4210  Subject: re : enron default swaps  darrell ,  ...      0\n",
       "5603  Subject: re : power question  steve ,  elena c...      0\n",
       "561   Subject: all wraps around graand  hello concet...      1\n",
       "3761  Subject: allocations  it is now official ! ! !...      0\n",
       "4215  Subject: invitation to sunday dinner with vinc...      0\n",
       "5596  Subject: re : ming sit  vince ,  thanks for th...      0\n",
       "177   Subject: no further access to your account wil...      1"
      ]
     },
     "execution_count": 2,
     "metadata": {},
     "output_type": "execute_result"
    }
   ],
   "source": [
    "# read the csv file  \n",
    "df = pd.read_csv(\"emails.csv\")\n",
    "\n",
    "#rename spam column to label\n",
    "df = df.rename(columns={'spam': 'label'})\n",
    "\n",
    "# shuffle the rows\n",
    "df = shuffle(df, random_state=42)\n",
    "df.head(10)"
   ]
  },
  {
   "cell_type": "code",
   "execution_count": 3,
   "id": "9fba541b",
   "metadata": {},
   "outputs": [
    {
     "name": "stdout",
     "output_type": "stream",
     "text": [
      "Dataset shape: (5728, 2)\n",
      "\n",
      "Total email count: 5728\n",
      "Total labels: 5728\n"
     ]
    }
   ],
   "source": [
    "print(\"Dataset shape:\", df.shape)\n",
    "print(\"\\nTotal email count: {}\".format(len(df)))\n",
    "print(\"Total labels: {}\".format(len(df['label'])))"
   ]
  },
  {
   "cell_type": "code",
   "execution_count": 4,
   "id": "34dc1705",
   "metadata": {},
   "outputs": [
    {
     "name": "stdout",
     "output_type": "stream",
     "text": [
      "\n",
      "Label distribution:\n",
      " label\n",
      "0    4360\n",
      "1    1368\n",
      "Name: count, dtype: int64\n",
      "\n",
      "Missing values:\n",
      " text      0\n",
      "label     0\n",
      "length    0\n",
      "dtype: int64\n",
      "\n",
      "Email length statistics:\n",
      " count     5728.000000\n",
      "mean      1556.768680\n",
      "std       2042.649812\n",
      "min         13.000000\n",
      "25%        508.750000\n",
      "50%        979.000000\n",
      "75%       1894.250000\n",
      "max      43952.000000\n",
      "Name: length, dtype: float64\n"
     ]
    }
   ],
   "source": [
    "# Label distribution and email length statistics\n",
    "label_distribution = df['label'].value_counts()\n",
    "\n",
    "\n",
    "# Add a 'length' feature\n",
    "df['length'] = df['text'].str.len()\n",
    "email_length_stats = df['length'].describe()\n",
    "\n",
    "\n",
    "print(\"\\nLabel distribution:\\n\", label_distribution)\n",
    "print(\"\\nMissing values:\\n\", df.isnull().sum())\n",
    "print(\"\\nEmail length statistics:\\n\", email_length_stats)            "
   ]
  },
  {
   "cell_type": "code",
   "execution_count": null,
   "id": "2b93df9b",
   "metadata": {},
   "outputs": [],
   "source": []
  },
  {
   "cell_type": "markdown",
   "id": "541f0841",
   "metadata": {},
   "source": [
    "### Exploratory Data Analysys (EDA)"
   ]
  },
  {
   "cell_type": "code",
   "execution_count": 5,
   "id": "7ffc3f83",
   "metadata": {},
   "outputs": [
    {
     "data": {
      "image/png": "[encoded data removed]",
      "text/plain": [
       "<Figure size 500x400 with 1 Axes>"
      ]
     },
     "metadata": {},
     "output_type": "display_data"
    }
   ],
   "source": [
    "# Class distribution\n",
    "plt.figure(figsize=(5, 4))\n",
    "df['label'].value_counts().plot(kind='barh')\n",
    "plt.title('Class Distribution')\n",
    "plt.xlabel('Count')\n",
    "plt.ylabel('Label')\n",
    "plt.show()"
   ]
  },
  {
   "cell_type": "code",
   "execution_count": 7,
   "id": "6e705327",
   "metadata": {},
   "outputs": [
    {
     "data": {
      "image/png": "[encoded data removed]",
      "text/plain": [
       "<Figure size 700x300 with 1 Axes>"
      ]
     },
     "metadata": {},
     "output_type": "display_data"
    }
   ],
   "source": [
    "# Distribution of email lengths\n",
    "plt.figure(figsize=(7, 3))\n",
    "sns.histplot(data=df, x='length', hue='label', multiple='stack')\n",
    "plt.title('Distribution of Email Lengths')\n",
    "plt.xlabel('Length')\n",
    "plt.show()"
   ]
  },
  {
   "cell_type": "markdown",
   "id": "06b32610",
   "metadata": {},
   "source": [
    "#### imbalanced dataset (needs to be taken care of)"
   ]
  },
  {
   "cell_type": "code",
   "execution_count": null,
   "id": "69d32a5e",
   "metadata": {},
   "outputs": [],
   "source": []
  },
  {
   "cell_type": "markdown",
   "id": "b4ebcec1",
   "metadata": {},
   "source": [
    "### Data Preprocessing"
   ]
  },
  {
   "cell_type": "code",
   "execution_count": 9,
   "id": "8006ff31",
   "metadata": {},
   "outputs": [
    {
     "name": "stderr",
     "output_type": "stream",
     "text": [
      "[nltk_data] Downloading package punkt to\n",
      "[nltk_data]     C:\\Users\\Arthur\\AppData\\Roaming\\nltk_data...\n",
      "[nltk_data]   Package punkt is already up-to-date!\n",
      "[nltk_data] Downloading package stopwords to\n",
      "[nltk_data]     C:\\Users\\Arthur\\AppData\\Roaming\\nltk_data...\n",
      "[nltk_data]   Package stopwords is already up-to-date!\n",
      "[nltk_data] Downloading package wordnet to\n",
      "[nltk_data]     C:\\Users\\Arthur\\AppData\\Roaming\\nltk_data...\n",
      "[nltk_data]   Package wordnet is already up-to-date!\n"
     ]
    },
    {
     "name": "stdout",
     "output_type": "stream",
     "text": [
      "\n",
      "Examples of cleaned email:\n",
      "                                                   text  \\\n",
      "4445  Subject: re : energy derivatives conference - ...   \n",
      "4118  Subject: financial maths course , part 2  vinc...   \n",
      "3893  Subject: re : bullet points  please respond to...   \n",
      "4210  Subject: re : enron default swaps  darrell ,  ...   \n",
      "5603  Subject: re : power question  steve ,  elena c...   \n",
      "\n",
      "                                          Cleaned_email  \n",
      "4445  subject energy derivative conference may toron...  \n",
      "4118  subject financial math course part vince case ...  \n",
      "3893  subject bullet point please respond hi vince t...  \n",
      "4210  subject enron default swap darrell sending tec...  \n",
      "5603  subject power question steve elena chilkina gi...  \n"
     ]
    }
   ],
   "source": [
    "# Download necessary NLTK data\n",
    "nltk.download('punkt')\n",
    "nltk.download('stopwords')\n",
    "nltk.download('wordnet')\n",
    "\n",
    "# # Handle missing values in 'length'\n",
    "# imputer = SimpleImputer(strategy='mean')\n",
    "# df['length'] = imputer.fit_transform(df'length')\n",
    "\n",
    "# Text cleaning function\n",
    "def clean_text(text):\n",
    "    # Convert to lowercase\n",
    "    text = text.lower()\n",
    "    \n",
    "    # Remove HTML tags\n",
    "    text = re.sub(r'<[^>]+>', '', text)\n",
    "    \n",
    "    # Remove special characters and digits\n",
    "    text = re.sub(r'[^a-z\\s]', '', text)\n",
    "\n",
    "    # Tokenize the text\n",
    "    tokens = word_tokenize(text)\n",
    "    \n",
    "    # Remove stopwords\n",
    "    stop_words = set(stopwords.words('english'))\n",
    "    tokens = [token for token in tokens if token not in stop_words]\n",
    "    \n",
    "    # Lemmatization\n",
    "    lemmatizer = WordNetLemmatizer()\n",
    "    tokens = [lemmatizer.lemmatize(token) for token in tokens]\n",
    "    \n",
    "    # Join tokens back into text\n",
    "    cleaned_text = ' '.join(tokens)\n",
    "    \n",
    "    return cleaned_text\n",
    "\n",
    "# Apply text cleaning\n",
    "df['Cleaned_email'] = df['text'].apply(clean_text)\n",
    "\n",
    "# Display a few examples of cleaned email\n",
    "print(\"\\nExamples of cleaned email:\")\n",
    "print(df[['text', 'Cleaned_email']].head())"
   ]
  },
  {
   "cell_type": "code",
   "execution_count": null,
   "id": "042e2864",
   "metadata": {},
   "outputs": [],
   "source": []
  },
  {
   "cell_type": "markdown",
   "id": "cda90f0e",
   "metadata": {},
   "source": [
    "### Feature Engineering"
   ]
  },
  {
   "cell_type": "code",
   "execution_count": 10,
   "id": "ff150311",
   "metadata": {},
   "outputs": [
    {
     "name": "stdout",
     "output_type": "stream",
     "text": [
      "Original training dataset shape: (4582, 5000)\n",
      "Resampled training dataset shape: (6976, 5000)\n",
      "\n",
      "Class distribution after SMOTE:\n",
      " label\n",
      "0    0.5\n",
      "1    0.5\n",
      "Name: proportion, dtype: float64\n"
     ]
    }
   ],
   "source": [
    "# Split the data into features and target\n",
    "X = df['Cleaned_email']\n",
    "y = df['label']\n",
    "\n",
    "# Convert text to TF-IDF features\n",
    "vectorizer = TfidfVectorizer(max_features=5000)\n",
    "X = vectorizer.fit_transform(df['Cleaned_email'])\n",
    "y = df['label']\n",
    "\n",
    "# Split the data into train and test sets\n",
    "X_train, X_test, y_train, y_test = train_test_split(X, y, test_size=0.2, random_state=42, stratify=y)\n",
    "\n",
    "# Handle imbalanced data using SMOTE\n",
    "smote = SMOTE(random_state=42)\n",
    "X_train_resampled, y_train_resampled = smote.fit_resample(X_train, y_train)\n",
    "\n",
    "print(\"Original training dataset shape:\", X_train.shape)\n",
    "print(\"Resampled training dataset shape:\", X_train_resampled.shape)\n",
    "print(\"\\nClass distribution after SMOTE:\\n\", pd.Series(y_train_resampled).value_counts(normalize=True))\n"
   ]
  },
  {
   "cell_type": "markdown",
   "id": "417311e5",
   "metadata": {},
   "source": [
    "### Model Training & Evaluation"
   ]
  },
  {
   "cell_type": "code",
   "execution_count": 11,
   "id": "96f938da",
   "metadata": {},
   "outputs": [
    {
     "name": "stdout",
     "output_type": "stream",
     "text": [
      "MultinomialNB - Mean CV Accuracy: 0.9914 (+/- 0.0075)\n",
      "RandomForest-100 - Mean CV Accuracy: 0.9924 (+/- 0.0036)\n",
      "RandomForest-200 - Mean CV Accuracy: 0.9930 (+/- 0.0038)\n",
      "RandomForest-300 - Mean CV Accuracy: 0.9930 (+/- 0.0037)\n",
      "\n",
      "Best model: RandomForest-200\n",
      "Best cross-validation score: 0.9930\n"
     ]
    }
   ],
   "source": [
    "# function to train and evaluate model\n",
    "def train_and_evaluate_model(model, X, y, model_name, cv=5, random_state=42):\n",
    "    scores = cross_val_score(model, X, y, cv=StratifiedKFold(n_splits=cv, shuffle=True, random_state=random_state), scoring='accuracy')\n",
    "    print(f\"{model_name} - Mean CV Accuracy: {scores.mean():.4f} (+/- {scores.std() * 2:.4f})\")\n",
    "    return scores.mean()\n",
    "\n",
    "# List of models to try\n",
    "models = [\n",
    "    ('MultinomialNB', MultinomialNB()),\n",
    "    ('RandomForest-100', RandomForestClassifier(n_estimators=100, random_state=42)),\n",
    "    ('RandomForest-200', RandomForestClassifier(n_estimators=200, random_state=42)),\n",
    "    ('RandomForest-300', RandomForestClassifier(n_estimators=300, random_state=42))\n",
    "]\n",
    "\n",
    "best_score = 0\n",
    "best_model = None\n",
    "best_model_name = ''\n",
    "\n",
    "# looping through the models\n",
    "for model_name, model in models:\n",
    "    score = train_and_evaluate_model(model, X_train_resampled, y_train_resampled, model_name)\n",
    "    \n",
    "    if score > best_score:\n",
    "        best_score = score\n",
    "        best_model = model\n",
    "        best_model_name = model_name\n",
    "\n",
    "print(f\"\\nBest model: {best_model_name}\")\n",
    "print(f\"Best cross-validation score: {best_score:.4f}\")"
   ]
  },
  {
   "cell_type": "code",
   "execution_count": 12,
   "id": "a7e095f5",
   "metadata": {},
   "outputs": [
    {
     "name": "stdout",
     "output_type": "stream",
     "text": [
      "Train Accuracy: 1.0000\n",
      "Test Accuracy: 0.9843\n",
      "\n",
      "Classification Report:\n",
      "              precision    recall  f1-score   support\n",
      "\n",
      "           0       0.99      0.99      0.99       872\n",
      "           1       0.97      0.96      0.97       274\n",
      "\n",
      "    accuracy                           0.98      1146\n",
      "   macro avg       0.98      0.98      0.98      1146\n",
      "weighted avg       0.98      0.98      0.98      1146\n",
      "\n"
     ]
    }
   ],
   "source": [
    "# Train the final model on the entire resampled training set\n",
    "best_model.fit(X_train_resampled, y_train_resampled)\n",
    "\n",
    "# Compare the model prediction accuracy on the resampled train and original test dataset\n",
    "y_pred_train = best_model.predict(X_train_resampled)\n",
    "y_pred_test = best_model.predict(X_test)\n",
    "\n",
    "train_accuracy = accuracy_score(y_train_resampled, y_pred_train)\n",
    "test_accuracy = accuracy_score(y_test, y_pred_test)\n",
    "print(f\"Train Accuracy: {train_accuracy:.4f}\")\n",
    "print(f\"Test Accuracy: {test_accuracy:.4f}\")\n",
    "\n",
    "# Classification Report\n",
    "print(\"\\nClassification Report:\")\n",
    "print(classification_report(y_test, y_pred_test))\n"
   ]
  },
  {
   "cell_type": "code",
   "execution_count": 13,
   "id": "3e705931",
   "metadata": {},
   "outputs": [
    {
     "data": {
      "image/png": "[encoded data removed]",
      "text/plain": [
       "<Figure size 1000x500 with 1 Axes>"
      ]
     },
     "metadata": {},
     "output_type": "display_data"
    }
   ],
   "source": [
    "# Learning curve of the best_model \n",
    "\n",
    "def plot_learning_curve(estimator, title, X, y, axes=None, ylim=None, cv=None,\n",
    "                        n_jobs=None, train_sizes=np.linspace(.1, 1.0, 5)):\n",
    "    if axes is None:\n",
    "        _, axes = plt.subplots(1, 1, figsize=(10, 5))\n",
    "    \n",
    "    axes.set_title(title)\n",
    "    if ylim is not None:\n",
    "        axes.set_ylim(*ylim)\n",
    "    axes.set_xlabel(\"Training examples\")\n",
    "    axes.set_ylabel(\"Score\")\n",
    "    \n",
    "    train_sizes, train_scores, test_scores, fit_times, _ = \\\n",
    "        learning_curve(estimator, X, y, cv=cv, n_jobs=n_jobs,\n",
    "                       train_sizes=train_sizes,\n",
    "                       return_times=True)\n",
    "    train_scores_mean = np.mean(train_scores, axis=1)\n",
    "    train_scores_std = np.std(train_scores, axis=1)\n",
    "    test_scores_mean = np.mean(test_scores, axis=1)\n",
    "    test_scores_std = np.std(test_scores, axis=1)\n",
    "    \n",
    "    # Plot learning curve\n",
    "    axes.grid()\n",
    "    axes.fill_between(train_sizes, train_scores_mean - train_scores_std,\n",
    "                      train_scores_mean + train_scores_std, alpha=0.1,\n",
    "                      color=\"r\")\n",
    "    axes.fill_between(train_sizes, test_scores_mean - test_scores_std,\n",
    "                      test_scores_mean + test_scores_std, alpha=0.1,\n",
    "                      color=\"g\")\n",
    "    axes.plot(train_sizes, train_scores_mean, 'o-', color=\"r\",\n",
    "              label=\"Training score\")\n",
    "    axes.plot(train_sizes, test_scores_mean, 'o-', color=\"g\",\n",
    "              label=\"Cross-validation score\")\n",
    "    axes.legend(loc=\"best\")\n",
    "    \n",
    "    return plt\n",
    "\n",
    "# Generate the learning curve\n",
    "cv = 5  # number of folds in cross-validation\n",
    "model_name = best_model.__class__.__name__  # Get the class name of the model\n",
    "plt = plot_learning_curve(best_model, f\"Learning Curve for {model_name}\",\n",
    "                          X_train_resampled, y_train_resampled, cv=cv, n_jobs=-1)\n",
    "\n",
    "# Display the plot\n",
    "plt.show()"
   ]
  },
  {
   "cell_type": "markdown",
   "id": "abb88acc",
   "metadata": {},
   "source": [
    "#### The RandomForestClassifier with 200 n_estimators, performs best, with a mean CV accuracy of 99%, 97% f1_score at detecting spam.  <br> The Learning curve proves a good fit model."
   ]
  },
  {
   "cell_type": "code",
   "execution_count": null,
   "id": "09c2a08c",
   "metadata": {},
   "outputs": [],
   "source": []
  },
  {
   "cell_type": "markdown",
   "id": "172c27de",
   "metadata": {},
   "source": [
    "### The Best model and vectorizer saved"
   ]
  },
  {
   "cell_type": "code",
   "execution_count": 14,
   "id": "4e203288",
   "metadata": {},
   "outputs": [
    {
     "name": "stdout",
     "output_type": "stream",
     "text": [
      "Best model saved as best_model_RandomForest-200.pkl\n",
      "TF-IDF vectorizer saved as: tfidf_vectorizer.pkl\n"
     ]
    }
   ],
   "source": [
    "# Save the best model, and vectorizer\n",
    "model_filename = f'best_model_{best_model_name}.pkl'\n",
    "dump(best_model, model_filename)\n",
    "dump(vectorizer, 'tfidf_vectorizer.pkl')\n",
    "\n",
    "print(f\"Best model saved as {model_filename}\")\n",
    "print(\"TF-IDF vectorizer saved as: tfidf_vectorizer.pkl\")"
   ]
  },
  {
   "cell_type": "code",
   "execution_count": null,
   "id": "7b377049",
   "metadata": {},
   "outputs": [],
   "source": []
  },
  {
   "cell_type": "markdown",
   "id": "9198819b",
   "metadata": {},
   "source": [
    "### Important information about the model and preprocessing saved"
   ]
  },
  {
   "cell_type": "code",
   "execution_count": 15,
   "id": "a4b6b485",
   "metadata": {
    "scrolled": true
   },
   "outputs": [
    {
     "name": "stdout",
     "output_type": "stream",
     "text": [
      "Model information saved in 'model_info.json'\n"
     ]
    }
   ],
   "source": [
    "# Save important information about the model and preprocessing\n",
    "import json\n",
    "\n",
    "model_info = {\n",
    "    'best_model_name': best_model_name,\n",
    "    'best_cv_score': best_score,\n",
    "    'test_accuracy': test_accuracy,\n",
    "    'model_filename': model_filename,\n",
    "    #  preprocessing info,\n",
    "    'vectorizer_max_features': 5000, \n",
    "    'used_smote': True\n",
    "}\n",
    "\n",
    "with open('model_info.json', 'w') as f:\n",
    "    json.dump(model_info, f, indent=4)\n",
    "\n",
    "print(\"Model information saved in 'model_info.json'\")"
   ]
  },
  {
   "cell_type": "code",
   "execution_count": null,
   "id": "0711f32a",
   "metadata": {},
   "outputs": [],
   "source": []
  }
 ],
 "metadata": {
  "kernelspec": {
   "display_name": "Python 3 (ipykernel)",
   "language": "python",
   "name": "python3"
  },
  "language_info": {
   "codemirror_mode": {
    "name": "ipython",
    "version": 3
   },
   "file_extension": ".py",
   "mimetype": "text/x-python",
   "name": "python",
   "nbconvert_exporter": "python",
   "pygments_lexer": "ipython3",
   "version": "3.11.5"
  }
 },
 "nbformat": 4,
 "nbformat_minor": 5
}
